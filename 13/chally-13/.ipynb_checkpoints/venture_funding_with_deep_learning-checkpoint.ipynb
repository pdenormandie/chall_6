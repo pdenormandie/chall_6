{
 "cells": [
  {
   "cell_type": "markdown",
   "metadata": {},
   "source": [
    "# Venture Funding with Deep Learning\n",
    "\n",
    "You work as a risk management associate at Alphabet Soup, a venture capital firm. Alphabet Soup’s business team receives many funding applications from startups every day. This team has asked you to help them create a model that predicts whether applicants will be successful if funded by Alphabet Soup.\n",
    "\n",
    "The business team has given you a CSV containing more than 34,000 organizations that have received funding from Alphabet Soup over the years. With your knowledge of machine learning and neural networks, you decide to use the features in the provided dataset to create a binary classifier model that will predict whether an applicant will become a successful business. The CSV file contains a variety of information about these businesses, including whether or not they ultimately became successful.\n",
    "\n",
    "## Instructions:\n",
    "\n",
    "The steps for this challenge are broken out into the following sections:\n",
    "\n",
    "* Prepare the data for use on a neural network model.\n",
    "\n",
    "* Compile and evaluate a binary classification model using a neural network.\n",
    "\n",
    "* Optimize the neural network model.\n",
    "\n",
    "### Prepare the Data for Use on a Neural Network Model \n",
    "\n",
    "Using your knowledge of Pandas and scikit-learn’s `StandardScaler()`, preprocess the dataset so that you can use it to compile and evaluate the neural network model later.\n",
    "\n",
    "Open the starter code file, and complete the following data preparation steps:\n",
    "\n",
    "1. Read the `applicants_data.csv` file into a Pandas DataFrame. Review the DataFrame, looking for categorical variables that will need to be encoded, as well as columns that could eventually define your features and target variables.   \n",
    "\n",
    "2. Drop the “EIN” (Employer Identification Number) and “NAME” columns from the DataFrame, because they are not relevant to the binary classification model.\n",
    " \n",
    "3. Encode the dataset’s categorical variables using `OneHotEncoder`, and then place the encoded variables into a new DataFrame.\n",
    "\n",
    "4. Add the original DataFrame’s numerical variables to the DataFrame containing the encoded variables.\n",
    "\n",
    "> **Note** To complete this step, you will employ the Pandas `concat()` function that was introduced earlier in this course. \n",
    "\n",
    "5. Using the preprocessed data, create the features (`X`) and target (`y`) datasets. The target dataset should be defined by the preprocessed DataFrame column “IS_SUCCESSFUL”. The remaining columns should define the features dataset. \n",
    "\n",
    "6. Split the features and target sets into training and testing datasets.\n",
    "\n",
    "7. Use scikit-learn's `StandardScaler` to scale the features data.\n",
    "\n",
    "### Compile and Evaluate a Binary Classification Model Using a Neural Network\n",
    "\n",
    "Use your knowledge of TensorFlow to design a binary classification deep neural network model. This model should use the dataset’s features to predict whether an Alphabet Soup&ndash;funded startup will be successful based on the features in the dataset. Consider the number of inputs before determining the number of layers that your model will contain or the number of neurons on each layer. Then, compile and fit your model. Finally, evaluate your binary classification model to calculate the model’s loss and accuracy. \n",
    " \n",
    "To do so, complete the following steps:\n",
    "\n",
    "1. Create a deep neural network by assigning the number of input features, the number of layers, and the number of neurons on each layer using Tensorflow’s Keras.\n",
    "\n",
    "> **Hint** You can start with a two-layer deep neural network model that uses the `relu` activation function for both layers.\n",
    "\n",
    "2. Compile and fit the model using the `binary_crossentropy` loss function, the `adam` optimizer, and the `accuracy` evaluation metric.\n",
    "\n",
    "> **Hint** When fitting the model, start with a small number of epochs, such as 20, 50, or 100.\n",
    "\n",
    "3. Evaluate the model using the test data to determine the model’s loss and accuracy.\n",
    "\n",
    "4. Save and export your model to an HDF5 file, and name the file `AlphabetSoup.h5`. \n",
    "\n",
    "### Optimize the Neural Network Model\n",
    "\n",
    "Using your knowledge of TensorFlow and Keras, optimize your model to improve the model's accuracy. Even if you do not successfully achieve a better accuracy, you'll need to demonstrate at least two attempts to optimize the model. You can include these attempts in your existing notebook. Or, you can make copies of the starter notebook in the same folder, rename them, and code each model optimization in a new notebook. \n",
    "\n",
    "> **Note** You will not lose points if your model does not achieve a high accuracy, as long as you make at least two attempts to optimize the model.\n",
    "\n",
    "To do so, complete the following steps:\n",
    "\n",
    "1. Define at least three new deep neural network models (the original plus 2 optimization attempts). With each, try to improve on your first model’s predictive accuracy.\n",
    "\n",
    "> **Rewind** Recall that perfect accuracy has a value of 1, so accuracy improves as its value moves closer to 1. To optimize your model for a predictive accuracy as close to 1 as possible, you can use any or all of the following techniques:\n",
    ">\n",
    "> * Adjust the input data by dropping different features columns to ensure that no variables or outliers confuse the model.\n",
    ">\n",
    "> * Add more neurons (nodes) to a hidden layer.\n",
    ">\n",
    "> * Add more hidden layers.\n",
    ">\n",
    "> * Use different activation functions for the hidden layers.\n",
    ">\n",
    "> * Add to or reduce the number of epochs in the training regimen.\n",
    "\n",
    "2. After finishing your models, display the accuracy scores achieved by each model, and compare the results.\n",
    "\n",
    "3. Save each of your models as an HDF5 file.\n"
   ]
  },
  {
   "cell_type": "code",
   "execution_count": null,
   "metadata": {},
   "outputs": [],
   "source": [
    "\n"
   ]
  },
  {
   "cell_type": "code",
   "execution_count": 76,
   "metadata": {},
   "outputs": [],
   "source": [
    "# Imports\n",
    "import pandas as pd\n",
    "from pathlib import Path\n",
    "from tensorflow.keras.models import Sequential\n",
    "from tensorflow.keras.layers import Dense\n",
    "\n",
    "from sklearn.model_selection import train_test_split\n",
    "\n",
    "\n",
    "from sklearn.datasets import make_blobs\n",
    "import pandas as pd\n",
    "from sklearn.model_selection import train_test_split\n",
    "from sklearn.preprocessing import StandardScaler\n",
    "\n",
    "from sklearn.preprocessing import OneHotEncoder\n",
    "import h5py"
   ]
  },
  {
   "cell_type": "markdown",
   "metadata": {},
   "source": [
    "---\n",
    "\n",
    "## Prepare the data to be used on a neural network model"
   ]
  },
  {
   "cell_type": "markdown",
   "metadata": {},
   "source": [
    "### Step 1: Read the `applicants_data.csv` file into a Pandas DataFrame. Review the DataFrame, looking for categorical variables that will need to be encoded, as well as columns that could eventually define your features and target variables.  \n"
   ]
  },
  {
   "cell_type": "code",
   "execution_count": 2,
   "metadata": {},
   "outputs": [
    {
     "data": {
      "text/html": [
       "<div>\n",
       "<style scoped>\n",
       "    .dataframe tbody tr th:only-of-type {\n",
       "        vertical-align: middle;\n",
       "    }\n",
       "\n",
       "    .dataframe tbody tr th {\n",
       "        vertical-align: top;\n",
       "    }\n",
       "\n",
       "    .dataframe thead th {\n",
       "        text-align: right;\n",
       "    }\n",
       "</style>\n",
       "<table border=\"1\" class=\"dataframe\">\n",
       "  <thead>\n",
       "    <tr style=\"text-align: right;\">\n",
       "      <th></th>\n",
       "      <th>EIN</th>\n",
       "      <th>NAME</th>\n",
       "      <th>APPLICATION_TYPE</th>\n",
       "      <th>AFFILIATION</th>\n",
       "      <th>CLASSIFICATION</th>\n",
       "      <th>USE_CASE</th>\n",
       "      <th>ORGANIZATION</th>\n",
       "      <th>STATUS</th>\n",
       "      <th>INCOME_AMT</th>\n",
       "      <th>SPECIAL_CONSIDERATIONS</th>\n",
       "      <th>ASK_AMT</th>\n",
       "      <th>IS_SUCCESSFUL</th>\n",
       "    </tr>\n",
       "  </thead>\n",
       "  <tbody>\n",
       "    <tr>\n",
       "      <th>0</th>\n",
       "      <td>10520599</td>\n",
       "      <td>BLUE KNIGHTS MOTORCYCLE CLUB</td>\n",
       "      <td>T10</td>\n",
       "      <td>Independent</td>\n",
       "      <td>C1000</td>\n",
       "      <td>ProductDev</td>\n",
       "      <td>Association</td>\n",
       "      <td>1</td>\n",
       "      <td>0</td>\n",
       "      <td>N</td>\n",
       "      <td>5000</td>\n",
       "      <td>1</td>\n",
       "    </tr>\n",
       "    <tr>\n",
       "      <th>1</th>\n",
       "      <td>10531628</td>\n",
       "      <td>AMERICAN CHESAPEAKE CLUB CHARITABLE TR</td>\n",
       "      <td>T3</td>\n",
       "      <td>Independent</td>\n",
       "      <td>C2000</td>\n",
       "      <td>Preservation</td>\n",
       "      <td>Co-operative</td>\n",
       "      <td>1</td>\n",
       "      <td>1-9999</td>\n",
       "      <td>N</td>\n",
       "      <td>108590</td>\n",
       "      <td>1</td>\n",
       "    </tr>\n",
       "    <tr>\n",
       "      <th>2</th>\n",
       "      <td>10547893</td>\n",
       "      <td>ST CLOUD PROFESSIONAL FIREFIGHTERS</td>\n",
       "      <td>T5</td>\n",
       "      <td>CompanySponsored</td>\n",
       "      <td>C3000</td>\n",
       "      <td>ProductDev</td>\n",
       "      <td>Association</td>\n",
       "      <td>1</td>\n",
       "      <td>0</td>\n",
       "      <td>N</td>\n",
       "      <td>5000</td>\n",
       "      <td>0</td>\n",
       "    </tr>\n",
       "    <tr>\n",
       "      <th>3</th>\n",
       "      <td>10553066</td>\n",
       "      <td>SOUTHSIDE ATHLETIC ASSOCIATION</td>\n",
       "      <td>T3</td>\n",
       "      <td>CompanySponsored</td>\n",
       "      <td>C2000</td>\n",
       "      <td>Preservation</td>\n",
       "      <td>Trust</td>\n",
       "      <td>1</td>\n",
       "      <td>10000-24999</td>\n",
       "      <td>N</td>\n",
       "      <td>6692</td>\n",
       "      <td>1</td>\n",
       "    </tr>\n",
       "    <tr>\n",
       "      <th>4</th>\n",
       "      <td>10556103</td>\n",
       "      <td>GENETIC RESEARCH INSTITUTE OF THE DESERT</td>\n",
       "      <td>T3</td>\n",
       "      <td>Independent</td>\n",
       "      <td>C1000</td>\n",
       "      <td>Heathcare</td>\n",
       "      <td>Trust</td>\n",
       "      <td>1</td>\n",
       "      <td>100000-499999</td>\n",
       "      <td>N</td>\n",
       "      <td>142590</td>\n",
       "      <td>1</td>\n",
       "    </tr>\n",
       "  </tbody>\n",
       "</table>\n",
       "</div>"
      ],
      "text/plain": [
       "        EIN                                      NAME APPLICATION_TYPE  \\\n",
       "0  10520599              BLUE KNIGHTS MOTORCYCLE CLUB              T10   \n",
       "1  10531628    AMERICAN CHESAPEAKE CLUB CHARITABLE TR               T3   \n",
       "2  10547893        ST CLOUD PROFESSIONAL FIREFIGHTERS               T5   \n",
       "3  10553066            SOUTHSIDE ATHLETIC ASSOCIATION               T3   \n",
       "4  10556103  GENETIC RESEARCH INSTITUTE OF THE DESERT               T3   \n",
       "\n",
       "        AFFILIATION CLASSIFICATION      USE_CASE  ORGANIZATION  STATUS  \\\n",
       "0       Independent          C1000    ProductDev   Association       1   \n",
       "1       Independent          C2000  Preservation  Co-operative       1   \n",
       "2  CompanySponsored          C3000    ProductDev   Association       1   \n",
       "3  CompanySponsored          C2000  Preservation         Trust       1   \n",
       "4       Independent          C1000     Heathcare         Trust       1   \n",
       "\n",
       "      INCOME_AMT SPECIAL_CONSIDERATIONS  ASK_AMT  IS_SUCCESSFUL  \n",
       "0              0                      N     5000              1  \n",
       "1         1-9999                      N   108590              1  \n",
       "2              0                      N     5000              0  \n",
       "3    10000-24999                      N     6692              1  \n",
       "4  100000-499999                      N   142590              1  "
      ]
     },
     "execution_count": 2,
     "metadata": {},
     "output_type": "execute_result"
    }
   ],
   "source": [
    "# Read the applicants_data.csv file from the Resources folder into a Pandas DataFrame\n",
    "file_path = Path(\"applicants_data.csv\")\n",
    "\n",
    "applicant_data_df = pd.read_csv(file_path, index_col=False)\n",
    "\n",
    "\n",
    "\n",
    "# Display sample data\n",
    "applicant_data_df.head()\n",
    "\n"
   ]
  },
  {
   "cell_type": "code",
   "execution_count": 3,
   "metadata": {},
   "outputs": [
    {
     "data": {
      "text/plain": [
       "EIN                        int64\n",
       "NAME                      object\n",
       "APPLICATION_TYPE          object\n",
       "AFFILIATION               object\n",
       "CLASSIFICATION            object\n",
       "USE_CASE                  object\n",
       "ORGANIZATION              object\n",
       "STATUS                     int64\n",
       "INCOME_AMT                object\n",
       "SPECIAL_CONSIDERATIONS    object\n",
       "ASK_AMT                    int64\n",
       "IS_SUCCESSFUL              int64\n",
       "dtype: object"
      ]
     },
     "execution_count": 3,
     "metadata": {},
     "output_type": "execute_result"
    }
   ],
   "source": [
    "# Review the data types associated with the columns\n",
    "# YOUR CODE HERE\n",
    "applicant_data_df.dtypes\n"
   ]
  },
  {
   "cell_type": "markdown",
   "metadata": {},
   "source": [
    "### Step 2: Drop the “EIN” (Employer Identification Number) and “NAME” columns from the DataFrame, because they are not relevant to the binary classification model."
   ]
  },
  {
   "cell_type": "code",
   "execution_count": 4,
   "metadata": {},
   "outputs": [
    {
     "data": {
      "text/html": [
       "<div>\n",
       "<style scoped>\n",
       "    .dataframe tbody tr th:only-of-type {\n",
       "        vertical-align: middle;\n",
       "    }\n",
       "\n",
       "    .dataframe tbody tr th {\n",
       "        vertical-align: top;\n",
       "    }\n",
       "\n",
       "    .dataframe thead th {\n",
       "        text-align: right;\n",
       "    }\n",
       "</style>\n",
       "<table border=\"1\" class=\"dataframe\">\n",
       "  <thead>\n",
       "    <tr style=\"text-align: right;\">\n",
       "      <th></th>\n",
       "      <th>APPLICATION_TYPE</th>\n",
       "      <th>AFFILIATION</th>\n",
       "      <th>CLASSIFICATION</th>\n",
       "      <th>USE_CASE</th>\n",
       "      <th>ORGANIZATION</th>\n",
       "      <th>STATUS</th>\n",
       "      <th>INCOME_AMT</th>\n",
       "      <th>SPECIAL_CONSIDERATIONS</th>\n",
       "      <th>ASK_AMT</th>\n",
       "      <th>IS_SUCCESSFUL</th>\n",
       "    </tr>\n",
       "  </thead>\n",
       "  <tbody>\n",
       "    <tr>\n",
       "      <th>0</th>\n",
       "      <td>T10</td>\n",
       "      <td>Independent</td>\n",
       "      <td>C1000</td>\n",
       "      <td>ProductDev</td>\n",
       "      <td>Association</td>\n",
       "      <td>1</td>\n",
       "      <td>0</td>\n",
       "      <td>N</td>\n",
       "      <td>5000</td>\n",
       "      <td>1</td>\n",
       "    </tr>\n",
       "    <tr>\n",
       "      <th>1</th>\n",
       "      <td>T3</td>\n",
       "      <td>Independent</td>\n",
       "      <td>C2000</td>\n",
       "      <td>Preservation</td>\n",
       "      <td>Co-operative</td>\n",
       "      <td>1</td>\n",
       "      <td>1-9999</td>\n",
       "      <td>N</td>\n",
       "      <td>108590</td>\n",
       "      <td>1</td>\n",
       "    </tr>\n",
       "    <tr>\n",
       "      <th>2</th>\n",
       "      <td>T5</td>\n",
       "      <td>CompanySponsored</td>\n",
       "      <td>C3000</td>\n",
       "      <td>ProductDev</td>\n",
       "      <td>Association</td>\n",
       "      <td>1</td>\n",
       "      <td>0</td>\n",
       "      <td>N</td>\n",
       "      <td>5000</td>\n",
       "      <td>0</td>\n",
       "    </tr>\n",
       "    <tr>\n",
       "      <th>3</th>\n",
       "      <td>T3</td>\n",
       "      <td>CompanySponsored</td>\n",
       "      <td>C2000</td>\n",
       "      <td>Preservation</td>\n",
       "      <td>Trust</td>\n",
       "      <td>1</td>\n",
       "      <td>10000-24999</td>\n",
       "      <td>N</td>\n",
       "      <td>6692</td>\n",
       "      <td>1</td>\n",
       "    </tr>\n",
       "    <tr>\n",
       "      <th>4</th>\n",
       "      <td>T3</td>\n",
       "      <td>Independent</td>\n",
       "      <td>C1000</td>\n",
       "      <td>Heathcare</td>\n",
       "      <td>Trust</td>\n",
       "      <td>1</td>\n",
       "      <td>100000-499999</td>\n",
       "      <td>N</td>\n",
       "      <td>142590</td>\n",
       "      <td>1</td>\n",
       "    </tr>\n",
       "  </tbody>\n",
       "</table>\n",
       "</div>"
      ],
      "text/plain": [
       "  APPLICATION_TYPE       AFFILIATION CLASSIFICATION      USE_CASE  \\\n",
       "0              T10       Independent          C1000    ProductDev   \n",
       "1               T3       Independent          C2000  Preservation   \n",
       "2               T5  CompanySponsored          C3000    ProductDev   \n",
       "3               T3  CompanySponsored          C2000  Preservation   \n",
       "4               T3       Independent          C1000     Heathcare   \n",
       "\n",
       "   ORGANIZATION  STATUS     INCOME_AMT SPECIAL_CONSIDERATIONS  ASK_AMT  \\\n",
       "0   Association       1              0                      N     5000   \n",
       "1  Co-operative       1         1-9999                      N   108590   \n",
       "2   Association       1              0                      N     5000   \n",
       "3         Trust       1    10000-24999                      N     6692   \n",
       "4         Trust       1  100000-499999                      N   142590   \n",
       "\n",
       "   IS_SUCCESSFUL  \n",
       "0              1  \n",
       "1              1  \n",
       "2              0  \n",
       "3              1  \n",
       "4              1  "
      ]
     },
     "execution_count": 4,
     "metadata": {},
     "output_type": "execute_result"
    }
   ],
   "source": [
    "# Drop the 'EIN' and 'NAME' columns from the DataFrame\n",
    "DF = applicant_data_df.set_index('EIN')\n",
    "DF2 = DF.set_index('NAME')\n",
    "    #['APPLICATION_TYPE', 'AFFILIATION', 'CLASSIFICATION', 'USE_CASE', 'ORGANIZATION',  'STATUS', 'INCOME_AMT', 'SPECIAL_CONSIDERATIONS', 'ASK_AMT', 'IS_SUCCESSFUL']]\n",
    "# Review the DataFrame\n",
    "DF2.reset_index(drop=True, inplace=True)\n",
    "DF2.head()\n",
    "# YOUR CODE HERE\n"
   ]
  },
  {
   "cell_type": "markdown",
   "metadata": {},
   "source": [
    "### Step 3: Encode the dataset’s categorical variables using `OneHotEncoder`, and then place the encoded variables into a new DataFrame."
   ]
  },
  {
   "cell_type": "code",
   "execution_count": 5,
   "metadata": {},
   "outputs": [
    {
     "data": {
      "text/plain": [
       "['APPLICATION_TYPE',\n",
       " 'AFFILIATION',\n",
       " 'CLASSIFICATION',\n",
       " 'USE_CASE',\n",
       " 'ORGANIZATION',\n",
       " 'INCOME_AMT',\n",
       " 'SPECIAL_CONSIDERATIONS']"
      ]
     },
     "execution_count": 5,
     "metadata": {},
     "output_type": "execute_result"
    }
   ],
   "source": [
    "# Create a list of the columns with categorical variables\n",
    "categorical_variables = ['APPLICATION_TYPE',\n",
    " 'AFFILIATION',\n",
    " 'CLASSIFICATION',\n",
    " 'USE_CASE',\n",
    " 'ORGANIZATION',\n",
    " 'INCOME_AMT',\n",
    " 'SPECIAL_CONSIDERATIONS']\n",
    "\n",
    "# Create a list of categorical variables \n",
    "enc = OneHotEncoder(sparse=False)\n",
    "\n",
    "# Display the categorical variables list\n",
    "list(DF2.dtypes[DF2.dtypes == \"object\"].index)"
   ]
  },
  {
   "cell_type": "code",
   "execution_count": 6,
   "metadata": {},
   "outputs": [],
   "source": [
    "# Create a OneHotEncoder instance\n",
    "encoded_data = enc.fit_transform(DF2[categorical_variables])\n"
   ]
  },
  {
   "cell_type": "code",
   "execution_count": 7,
   "metadata": {},
   "outputs": [
    {
     "ename": "AttributeError",
     "evalue": "'numpy.ndarray' object has no attribute 'head'",
     "output_type": "error",
     "traceback": [
      "\u001b[0;31m---------------------------------------------------------------------------\u001b[0m",
      "\u001b[0;31mAttributeError\u001b[0m                            Traceback (most recent call last)",
      "\u001b[0;32m/var/folders/8_/m4hvzw7s2g5g2hkh5nlr3x900000gn/T/ipykernel_93812/1093615951.py\u001b[0m in \u001b[0;36m<module>\u001b[0;34m\u001b[0m\n\u001b[0;32m----> 1\u001b[0;31m \u001b[0mencoded_data\u001b[0m\u001b[0;34m.\u001b[0m\u001b[0mhead\u001b[0m\u001b[0;34m(\u001b[0m\u001b[0;34m)\u001b[0m\u001b[0;34m\u001b[0m\u001b[0;34m\u001b[0m\u001b[0m\n\u001b[0m",
      "\u001b[0;31mAttributeError\u001b[0m: 'numpy.ndarray' object has no attribute 'head'"
     ]
    }
   ],
   "source": [
    "\n"
   ]
  },
  {
   "cell_type": "code",
   "execution_count": 8,
   "metadata": {},
   "outputs": [
    {
     "name": "stderr",
     "output_type": "stream",
     "text": [
      "/Users/pdenormandie/opt/anaconda3/envs/dev/lib/python3.7/site-packages/sklearn/utils/deprecation.py:87: FutureWarning: Function get_feature_names is deprecated; get_feature_names is deprecated in 1.0 and will be removed in 1.2. Please use get_feature_names_out instead.\n",
      "  warnings.warn(msg, category=FutureWarning)\n"
     ]
    },
    {
     "data": {
      "text/html": [
       "<div>\n",
       "<style scoped>\n",
       "    .dataframe tbody tr th:only-of-type {\n",
       "        vertical-align: middle;\n",
       "    }\n",
       "\n",
       "    .dataframe tbody tr th {\n",
       "        vertical-align: top;\n",
       "    }\n",
       "\n",
       "    .dataframe thead th {\n",
       "        text-align: right;\n",
       "    }\n",
       "</style>\n",
       "<table border=\"1\" class=\"dataframe\">\n",
       "  <thead>\n",
       "    <tr style=\"text-align: right;\">\n",
       "      <th></th>\n",
       "      <th>APPLICATION_TYPE_T10</th>\n",
       "      <th>APPLICATION_TYPE_T12</th>\n",
       "      <th>APPLICATION_TYPE_T13</th>\n",
       "      <th>APPLICATION_TYPE_T14</th>\n",
       "      <th>APPLICATION_TYPE_T15</th>\n",
       "      <th>APPLICATION_TYPE_T17</th>\n",
       "      <th>APPLICATION_TYPE_T19</th>\n",
       "      <th>APPLICATION_TYPE_T2</th>\n",
       "      <th>APPLICATION_TYPE_T25</th>\n",
       "      <th>APPLICATION_TYPE_T29</th>\n",
       "      <th>...</th>\n",
       "      <th>INCOME_AMT_1-9999</th>\n",
       "      <th>INCOME_AMT_10000-24999</th>\n",
       "      <th>INCOME_AMT_100000-499999</th>\n",
       "      <th>INCOME_AMT_10M-50M</th>\n",
       "      <th>INCOME_AMT_1M-5M</th>\n",
       "      <th>INCOME_AMT_25000-99999</th>\n",
       "      <th>INCOME_AMT_50M+</th>\n",
       "      <th>INCOME_AMT_5M-10M</th>\n",
       "      <th>SPECIAL_CONSIDERATIONS_N</th>\n",
       "      <th>SPECIAL_CONSIDERATIONS_Y</th>\n",
       "    </tr>\n",
       "  </thead>\n",
       "  <tbody>\n",
       "    <tr>\n",
       "      <th>0</th>\n",
       "      <td>1.0</td>\n",
       "      <td>0.0</td>\n",
       "      <td>0.0</td>\n",
       "      <td>0.0</td>\n",
       "      <td>0.0</td>\n",
       "      <td>0.0</td>\n",
       "      <td>0.0</td>\n",
       "      <td>0.0</td>\n",
       "      <td>0.0</td>\n",
       "      <td>0.0</td>\n",
       "      <td>...</td>\n",
       "      <td>0.0</td>\n",
       "      <td>0.0</td>\n",
       "      <td>0.0</td>\n",
       "      <td>0.0</td>\n",
       "      <td>0.0</td>\n",
       "      <td>0.0</td>\n",
       "      <td>0.0</td>\n",
       "      <td>0.0</td>\n",
       "      <td>1.0</td>\n",
       "      <td>0.0</td>\n",
       "    </tr>\n",
       "    <tr>\n",
       "      <th>1</th>\n",
       "      <td>0.0</td>\n",
       "      <td>0.0</td>\n",
       "      <td>0.0</td>\n",
       "      <td>0.0</td>\n",
       "      <td>0.0</td>\n",
       "      <td>0.0</td>\n",
       "      <td>0.0</td>\n",
       "      <td>0.0</td>\n",
       "      <td>0.0</td>\n",
       "      <td>0.0</td>\n",
       "      <td>...</td>\n",
       "      <td>1.0</td>\n",
       "      <td>0.0</td>\n",
       "      <td>0.0</td>\n",
       "      <td>0.0</td>\n",
       "      <td>0.0</td>\n",
       "      <td>0.0</td>\n",
       "      <td>0.0</td>\n",
       "      <td>0.0</td>\n",
       "      <td>1.0</td>\n",
       "      <td>0.0</td>\n",
       "    </tr>\n",
       "    <tr>\n",
       "      <th>2</th>\n",
       "      <td>0.0</td>\n",
       "      <td>0.0</td>\n",
       "      <td>0.0</td>\n",
       "      <td>0.0</td>\n",
       "      <td>0.0</td>\n",
       "      <td>0.0</td>\n",
       "      <td>0.0</td>\n",
       "      <td>0.0</td>\n",
       "      <td>0.0</td>\n",
       "      <td>0.0</td>\n",
       "      <td>...</td>\n",
       "      <td>0.0</td>\n",
       "      <td>0.0</td>\n",
       "      <td>0.0</td>\n",
       "      <td>0.0</td>\n",
       "      <td>0.0</td>\n",
       "      <td>0.0</td>\n",
       "      <td>0.0</td>\n",
       "      <td>0.0</td>\n",
       "      <td>1.0</td>\n",
       "      <td>0.0</td>\n",
       "    </tr>\n",
       "    <tr>\n",
       "      <th>3</th>\n",
       "      <td>0.0</td>\n",
       "      <td>0.0</td>\n",
       "      <td>0.0</td>\n",
       "      <td>0.0</td>\n",
       "      <td>0.0</td>\n",
       "      <td>0.0</td>\n",
       "      <td>0.0</td>\n",
       "      <td>0.0</td>\n",
       "      <td>0.0</td>\n",
       "      <td>0.0</td>\n",
       "      <td>...</td>\n",
       "      <td>0.0</td>\n",
       "      <td>1.0</td>\n",
       "      <td>0.0</td>\n",
       "      <td>0.0</td>\n",
       "      <td>0.0</td>\n",
       "      <td>0.0</td>\n",
       "      <td>0.0</td>\n",
       "      <td>0.0</td>\n",
       "      <td>1.0</td>\n",
       "      <td>0.0</td>\n",
       "    </tr>\n",
       "    <tr>\n",
       "      <th>4</th>\n",
       "      <td>0.0</td>\n",
       "      <td>0.0</td>\n",
       "      <td>0.0</td>\n",
       "      <td>0.0</td>\n",
       "      <td>0.0</td>\n",
       "      <td>0.0</td>\n",
       "      <td>0.0</td>\n",
       "      <td>0.0</td>\n",
       "      <td>0.0</td>\n",
       "      <td>0.0</td>\n",
       "      <td>...</td>\n",
       "      <td>0.0</td>\n",
       "      <td>0.0</td>\n",
       "      <td>1.0</td>\n",
       "      <td>0.0</td>\n",
       "      <td>0.0</td>\n",
       "      <td>0.0</td>\n",
       "      <td>0.0</td>\n",
       "      <td>0.0</td>\n",
       "      <td>1.0</td>\n",
       "      <td>0.0</td>\n",
       "    </tr>\n",
       "  </tbody>\n",
       "</table>\n",
       "<p>5 rows × 114 columns</p>\n",
       "</div>"
      ],
      "text/plain": [
       "   APPLICATION_TYPE_T10  APPLICATION_TYPE_T12  APPLICATION_TYPE_T13  \\\n",
       "0                   1.0                   0.0                   0.0   \n",
       "1                   0.0                   0.0                   0.0   \n",
       "2                   0.0                   0.0                   0.0   \n",
       "3                   0.0                   0.0                   0.0   \n",
       "4                   0.0                   0.0                   0.0   \n",
       "\n",
       "   APPLICATION_TYPE_T14  APPLICATION_TYPE_T15  APPLICATION_TYPE_T17  \\\n",
       "0                   0.0                   0.0                   0.0   \n",
       "1                   0.0                   0.0                   0.0   \n",
       "2                   0.0                   0.0                   0.0   \n",
       "3                   0.0                   0.0                   0.0   \n",
       "4                   0.0                   0.0                   0.0   \n",
       "\n",
       "   APPLICATION_TYPE_T19  APPLICATION_TYPE_T2  APPLICATION_TYPE_T25  \\\n",
       "0                   0.0                  0.0                   0.0   \n",
       "1                   0.0                  0.0                   0.0   \n",
       "2                   0.0                  0.0                   0.0   \n",
       "3                   0.0                  0.0                   0.0   \n",
       "4                   0.0                  0.0                   0.0   \n",
       "\n",
       "   APPLICATION_TYPE_T29  ...  INCOME_AMT_1-9999  INCOME_AMT_10000-24999  \\\n",
       "0                   0.0  ...                0.0                     0.0   \n",
       "1                   0.0  ...                1.0                     0.0   \n",
       "2                   0.0  ...                0.0                     0.0   \n",
       "3                   0.0  ...                0.0                     1.0   \n",
       "4                   0.0  ...                0.0                     0.0   \n",
       "\n",
       "   INCOME_AMT_100000-499999  INCOME_AMT_10M-50M  INCOME_AMT_1M-5M  \\\n",
       "0                       0.0                 0.0               0.0   \n",
       "1                       0.0                 0.0               0.0   \n",
       "2                       0.0                 0.0               0.0   \n",
       "3                       0.0                 0.0               0.0   \n",
       "4                       1.0                 0.0               0.0   \n",
       "\n",
       "   INCOME_AMT_25000-99999  INCOME_AMT_50M+  INCOME_AMT_5M-10M  \\\n",
       "0                     0.0              0.0                0.0   \n",
       "1                     0.0              0.0                0.0   \n",
       "2                     0.0              0.0                0.0   \n",
       "3                     0.0              0.0                0.0   \n",
       "4                     0.0              0.0                0.0   \n",
       "\n",
       "   SPECIAL_CONSIDERATIONS_N  SPECIAL_CONSIDERATIONS_Y  \n",
       "0                       1.0                       0.0  \n",
       "1                       1.0                       0.0  \n",
       "2                       1.0                       0.0  \n",
       "3                       1.0                       0.0  \n",
       "4                       1.0                       0.0  \n",
       "\n",
       "[5 rows x 114 columns]"
      ]
     },
     "execution_count": 8,
     "metadata": {},
     "output_type": "execute_result"
    }
   ],
   "source": [
    "# Create a DataFrame with the encoded variables\n",
    "encoded_df = pd.DataFrame(\n",
    "    encoded_data,\n",
    "    columns = enc.get_feature_names(categorical_variables)\n",
    ")\n",
    "\n",
    "# Display sample data\n",
    "encoded_df.head()\n"
   ]
  },
  {
   "cell_type": "markdown",
   "metadata": {},
   "source": [
    "### Step 4: Add the original DataFrame’s numerical variables to the DataFrame containing the encoded variables.\n",
    "\n",
    "> **Note** To complete this step, you will employ the Pandas `concat()` function that was introduced earlier in this course. "
   ]
  },
  {
   "cell_type": "code",
   "execution_count": 10,
   "metadata": {},
   "outputs": [],
   "source": [
    "applicant_data_df2 = applicant_data_df[\"IS_SUCCESSFUL\"]"
   ]
  },
  {
   "cell_type": "code",
   "execution_count": 22,
   "metadata": {},
   "outputs": [],
   "source": [
    "joined2 = pd.concat([applicant_data_df2, encoded_df], axis=1)"
   ]
  },
  {
   "cell_type": "code",
   "execution_count": 23,
   "metadata": {},
   "outputs": [
    {
     "data": {
      "text/plain": [
       "IS_SUCCESSFUL             int64\n",
       "APPLICATION_TYPE_T10    float64\n",
       "APPLICATION_TYPE_T12    float64\n",
       "APPLICATION_TYPE_T13    float64\n",
       "APPLICATION_TYPE_T14    float64\n",
       "APPLICATION_TYPE_T15    float64\n",
       "APPLICATION_TYPE_T17    float64\n",
       "APPLICATION_TYPE_T19    float64\n",
       "APPLICATION_TYPE_T2     float64\n",
       "APPLICATION_TYPE_T25    float64\n",
       "dtype: object"
      ]
     },
     "execution_count": 23,
     "metadata": {},
     "output_type": "execute_result"
    }
   ],
   "source": [
    "joined2.dtypes.head(10)\n"
   ]
  },
  {
   "cell_type": "markdown",
   "metadata": {},
   "source": [
    "### Step 5: Using the preprocessed data, create the features (`X`) and target (`y`) datasets. The target dataset should be defined by the preprocessed DataFrame column “IS_SUCCESSFUL”. The remaining columns should define the features dataset. \n",
    "\n"
   ]
  },
  {
   "cell_type": "code",
   "execution_count": 27,
   "metadata": {},
   "outputs": [
    {
     "data": {
      "text/plain": [
       "0    1\n",
       "1    1\n",
       "2    0\n",
       "3    1\n",
       "4    1\n",
       "Name: IS_SUCCESSFUL, dtype: int64"
      ]
     },
     "execution_count": 27,
     "metadata": {},
     "output_type": "execute_result"
    }
   ],
   "source": [
    "# Define the target set y using the IS_SUCCESSFUL column\n",
    "X = joined2.drop(columns=[\"IS_SUCCESSFUL\"])\n",
    "y = joined2[\"IS_SUCCESSFUL\"]\n",
    "X.head()\n",
    "y.head()"
   ]
  },
  {
   "cell_type": "code",
   "execution_count": 31,
   "metadata": {},
   "outputs": [],
   "source": [
    "# Create the training and testing datasets\n",
    "X_train, X_test, y_train, y_test = train_test_split(X, y, random_state=1)\n",
    "\n"
   ]
  },
  {
   "cell_type": "markdown",
   "metadata": {},
   "source": [
    "### Step 6: Split the features and target sets into training and testing datasets.\n"
   ]
  },
  {
   "cell_type": "code",
   "execution_count": 30,
   "metadata": {},
   "outputs": [],
   "source": [
    "# Create the scaler instance\n",
    "scaler = StandardScaler()\n",
    "\n",
    "# Fit the scaler\n",
    "X_scaler.fit(X_train)\n",
    "\n",
    "# Scale the features data\n",
    "X_train_scaled = X_scaler.transform(X_train)\n",
    "X_test_scaled = X_scaler.transform(X_test)"
   ]
  },
  {
   "cell_type": "markdown",
   "metadata": {},
   "source": [
    "### Step 7: Use scikit-learn's `StandardScaler` to scale the features data."
   ]
  },
  {
   "cell_type": "code",
   "execution_count": 33,
   "metadata": {},
   "outputs": [
    {
     "data": {
      "text/plain": [
       "114"
      ]
     },
     "execution_count": 33,
     "metadata": {},
     "output_type": "execute_result"
    }
   ],
   "source": []
  },
  {
   "cell_type": "code",
   "execution_count": 34,
   "metadata": {},
   "outputs": [],
   "source": []
  },
  {
   "cell_type": "markdown",
   "metadata": {},
   "source": [
    "---\n",
    "\n",
    "## Compile and Evaluate a Binary Classification Model Using a Neural Network"
   ]
  },
  {
   "cell_type": "markdown",
   "metadata": {},
   "source": [
    "### Step 1: Create a deep neural network by assigning the number of input features, the number of layers, and the number of neurons on each layer using Tensorflow’s Keras.\n",
    "\n",
    "> **Hint** You can start with a two-layer deep neural network model that uses the `relu` activation function for both layers.\n"
   ]
  },
  {
   "cell_type": "code",
   "execution_count": 64,
   "metadata": {},
   "outputs": [
    {
     "data": {
      "text/plain": [
       "114"
      ]
     },
     "execution_count": 64,
     "metadata": {},
     "output_type": "execute_result"
    }
   ],
   "source": [
    "# Define the the number of inputs (features) to the model\n",
    "number_input_features = len(X_train.iloc[0])\n",
    "\n",
    "# Review the number of features\n",
    "number_input_features\n"
   ]
  },
  {
   "cell_type": "code",
   "execution_count": 65,
   "metadata": {},
   "outputs": [],
   "source": [
    "# Define the number of neurons in the output layer\n",
    "number_output_neurons = 1"
   ]
  },
  {
   "cell_type": "code",
   "execution_count": 66,
   "metadata": {},
   "outputs": [
    {
     "data": {
      "text/plain": [
       "20"
      ]
     },
     "execution_count": 66,
     "metadata": {},
     "output_type": "execute_result"
    }
   ],
   "source": [
    "# Define the number of hidden nodes for the first hidden layer\n",
    "hidden_nodes_layer1 =  20\n",
    "\n",
    "# Review the number hidden nodes in the first layer\n",
    "hidden_nodes_layer1\n"
   ]
  },
  {
   "cell_type": "code",
   "execution_count": 67,
   "metadata": {},
   "outputs": [
    {
     "data": {
      "text/plain": [
       "5"
      ]
     },
     "execution_count": 67,
     "metadata": {},
     "output_type": "execute_result"
    }
   ],
   "source": [
    "# Define the number of hidden nodes for the second hidden layer\n",
    "hidden_nodes_layer2 =  5\n",
    "\n",
    "# Review the number hidden nodes in the second layer\n",
    "hidden_nodes_layer2"
   ]
  },
  {
   "cell_type": "code",
   "execution_count": 68,
   "metadata": {},
   "outputs": [],
   "source": [
    "# Create the Sequential model instance\n",
    "nn = Sequential()"
   ]
  },
  {
   "cell_type": "code",
   "execution_count": 69,
   "metadata": {},
   "outputs": [],
   "source": [
    "# Add the first hidden layer\n",
    "nn.add(Dense(units=hidden_nodes_layer1, input_dim=number_input_features, activation=\"relu\"))"
   ]
  },
  {
   "cell_type": "code",
   "execution_count": 70,
   "metadata": {},
   "outputs": [],
   "source": [
    "# Add the second hidden layer\n",
    "nn.add(Dense(units=hidden_nodes_layer2, activation=\"relu\"))\n"
   ]
  },
  {
   "cell_type": "code",
   "execution_count": 71,
   "metadata": {},
   "outputs": [],
   "source": [
    "# Add the output layer to the model specifying the number of output neurons and activation function\n",
    "nn.add(Dense(units=number_output_neurons, activation=\"linear\"))\n"
   ]
  },
  {
   "cell_type": "code",
   "execution_count": null,
   "metadata": {},
   "outputs": [],
   "source": []
  },
  {
   "cell_type": "code",
   "execution_count": 72,
   "metadata": {},
   "outputs": [
    {
     "name": "stdout",
     "output_type": "stream",
     "text": [
      "Model: \"sequential_3\"\n",
      "_________________________________________________________________\n",
      " Layer (type)                Output Shape              Param #   \n",
      "=================================================================\n",
      " dense_6 (Dense)             (None, 20)                2300      \n",
      "                                                                 \n",
      " dense_7 (Dense)             (None, 5)                 105       \n",
      "                                                                 \n",
      " dense_8 (Dense)             (None, 1)                 6         \n",
      "                                                                 \n",
      "=================================================================\n",
      "Total params: 2,411\n",
      "Trainable params: 2,411\n",
      "Non-trainable params: 0\n",
      "_________________________________________________________________\n"
     ]
    }
   ],
   "source": [
    "# Display the Sequential model summary\n",
    "# YOUR CODE HERE# \n",
    "nn.summary()\n"
   ]
  },
  {
   "cell_type": "markdown",
   "metadata": {},
   "source": [
    "### Step 2: Compile and fit the model using the `binary_crossentropy` loss function, the `adam` optimizer, and the `accuracy` evaluation metric.\n"
   ]
  },
  {
   "cell_type": "code",
   "execution_count": 73,
   "metadata": {},
   "outputs": [
    {
     "name": "stdout",
     "output_type": "stream",
     "text": [
      "Epoch 1/50\n",
      "804/804 [==============================] - 1s 881us/step - loss: 1.6843 - mse: 0.7804\n",
      "Epoch 2/50\n",
      "804/804 [==============================] - 1s 858us/step - loss: 1.1469 - mse: 0.6565\n",
      "Epoch 3/50\n",
      "804/804 [==============================] - 1s 869us/step - loss: 1.1209 - mse: 0.6065\n",
      "Epoch 4/50\n",
      "804/804 [==============================] - 1s 856us/step - loss: 0.9967 - mse: 0.5316\n",
      "Epoch 5/50\n",
      "804/804 [==============================] - 1s 844us/step - loss: 0.9013 - mse: 0.5080\n",
      "Epoch 6/50\n",
      "804/804 [==============================] - 1s 908us/step - loss: 0.8689 - mse: 0.4733\n",
      "Epoch 7/50\n",
      "804/804 [==============================] - 1s 868us/step - loss: 0.8658 - mse: 0.4809\n",
      "Epoch 8/50\n",
      "804/804 [==============================] - 1s 861us/step - loss: 0.7964 - mse: 0.5723\n",
      "Epoch 9/50\n",
      "804/804 [==============================] - 1s 882us/step - loss: 0.7723 - mse: 0.5749\n",
      "Epoch 10/50\n",
      "804/804 [==============================] - 1s 901us/step - loss: 0.7678 - mse: 0.5583\n",
      "Epoch 11/50\n",
      "804/804 [==============================] - 1s 882us/step - loss: 0.7872 - mse: 0.5621\n",
      "Epoch 12/50\n",
      "804/804 [==============================] - 1s 885us/step - loss: 0.7517 - mse: 0.5197\n",
      "Epoch 13/50\n",
      "804/804 [==============================] - 1s 1ms/step - loss: 0.7482 - mse: 0.5215\n",
      "Epoch 14/50\n",
      "804/804 [==============================] - 1s 885us/step - loss: 0.7012 - mse: 0.5500\n",
      "Epoch 15/50\n",
      "804/804 [==============================] - 1s 866us/step - loss: 0.7008 - mse: 0.5524\n",
      "Epoch 16/50\n",
      "804/804 [==============================] - 1s 874us/step - loss: 0.7021 - mse: 0.6169\n",
      "Epoch 17/50\n",
      "804/804 [==============================] - 1s 881us/step - loss: 0.6947 - mse: 0.6814\n",
      "Epoch 18/50\n",
      "804/804 [==============================] - 1s 983us/step - loss: 0.7020 - mse: 0.6471\n",
      "Epoch 19/50\n",
      "804/804 [==============================] - 1s 922us/step - loss: 0.6689 - mse: 0.6407\n",
      "Epoch 20/50\n",
      "804/804 [==============================] - 1s 1ms/step - loss: 0.6738 - mse: 0.6292\n",
      "Epoch 21/50\n",
      "804/804 [==============================] - 1s 975us/step - loss: 0.6738 - mse: 0.6374\n",
      "Epoch 22/50\n",
      "804/804 [==============================] - 1s 878us/step - loss: 0.6677 - mse: 0.6102\n",
      "Epoch 23/50\n",
      "804/804 [==============================] - 1s 878us/step - loss: 0.6639 - mse: 0.6232\n",
      "Epoch 24/50\n",
      "804/804 [==============================] - 1s 878us/step - loss: 0.6691 - mse: 0.6160\n",
      "Epoch 25/50\n",
      "804/804 [==============================] - 1s 887us/step - loss: 0.6704 - mse: 0.5950\n",
      "Epoch 26/50\n",
      "804/804 [==============================] - 1s 886us/step - loss: 0.6801 - mse: 0.5888\n",
      "Epoch 27/50\n",
      "804/804 [==============================] - 1s 874us/step - loss: 0.6800 - mse: 0.6108\n",
      "Epoch 28/50\n",
      "804/804 [==============================] - 1s 896us/step - loss: 0.6815 - mse: 0.6474\n",
      "Epoch 29/50\n",
      "804/804 [==============================] - 1s 896us/step - loss: 0.6909 - mse: 0.5782\n",
      "Epoch 30/50\n",
      "804/804 [==============================] - 1s 933us/step - loss: 0.6772 - mse: 0.5647\n",
      "Epoch 31/50\n",
      "804/804 [==============================] - 1s 913us/step - loss: 0.6751 - mse: 0.5406\n",
      "Epoch 32/50\n",
      "804/804 [==============================] - 1s 941us/step - loss: 0.6675 - mse: 0.5153\n",
      "Epoch 33/50\n",
      "804/804 [==============================] - 1s 1ms/step - loss: 0.6688 - mse: 0.4733\n",
      "Epoch 34/50\n",
      "804/804 [==============================] - 1s 1ms/step - loss: 0.6746 - mse: 0.4424\n",
      "Epoch 35/50\n",
      "804/804 [==============================] - 1s 1ms/step - loss: 0.6690 - mse: 0.4251\n",
      "Epoch 36/50\n",
      "804/804 [==============================] - 1s 1ms/step - loss: 0.6731 - mse: 0.3930\n",
      "Epoch 37/50\n",
      "804/804 [==============================] - 1s 943us/step - loss: 0.6708 - mse: 0.4452\n",
      "Epoch 38/50\n",
      "804/804 [==============================] - 1s 1ms/step - loss: 0.6786 - mse: 0.4755\n",
      "Epoch 39/50\n",
      "804/804 [==============================] - 1s 970us/step - loss: 0.6661 - mse: 0.4670\n",
      "Epoch 40/50\n",
      "804/804 [==============================] - 1s 913us/step - loss: 0.6782 - mse: 0.4348\n",
      "Epoch 41/50\n",
      "804/804 [==============================] - 1s 893us/step - loss: 0.6626 - mse: 0.3917\n",
      "Epoch 42/50\n",
      "804/804 [==============================] - 1s 900us/step - loss: 0.6579 - mse: 0.3877\n",
      "Epoch 43/50\n",
      "804/804 [==============================] - 1s 932us/step - loss: 0.6618 - mse: 0.3899\n",
      "Epoch 44/50\n",
      "804/804 [==============================] - 1s 907us/step - loss: 0.6488 - mse: 0.4123\n",
      "Epoch 45/50\n",
      "804/804 [==============================] - 1s 923us/step - loss: 0.6531 - mse: 0.4094\n",
      "Epoch 46/50\n",
      "804/804 [==============================] - 1s 938us/step - loss: 0.6363 - mse: 0.3688\n",
      "Epoch 47/50\n",
      "804/804 [==============================] - 1s 935us/step - loss: 0.6190 - mse: 0.3843\n",
      "Epoch 48/50\n",
      "804/804 [==============================] - 1s 914us/step - loss: 0.6252 - mse: 0.3880\n",
      "Epoch 49/50\n",
      "804/804 [==============================] - 1s 919us/step - loss: 0.6335 - mse: 0.4224\n",
      "Epoch 50/50\n",
      "804/804 [==============================] - 1s 928us/step - loss: 0.6361 - mse: 0.4051\n"
     ]
    }
   ],
   "source": [
    "# Compile the model\n",
    "nn.compile(loss=\"binary_crossentropy\", optimizer=\"adam\", metrics=[\"mse\"])\n",
    "\n",
    "# Fit the model\n",
    "deep_net_model = nn.fit(X_train_scaled, y_train, epochs=50)"
   ]
  },
  {
   "cell_type": "code",
   "execution_count": null,
   "metadata": {},
   "outputs": [],
   "source": []
  },
  {
   "cell_type": "markdown",
   "metadata": {},
   "source": [
    "### Step 3: Evaluate the model using the test data to determine the model’s loss and accuracy.\n"
   ]
  },
  {
   "cell_type": "code",
   "execution_count": 75,
   "metadata": {},
   "outputs": [
    {
     "name": "stdout",
     "output_type": "stream",
     "text": [
      "268/268 - 0s - loss: 0.6777 - mse: 0.3063 - 296ms/epoch - 1ms/step\n",
      "Loss: 0.6776999235153198, Accuracy: 0.3062882423400879\n"
     ]
    }
   ],
   "source": [
    "# Evaluate the model using testing data\n",
    "model_loss, model_accuracy = nn.evaluate(X_test_scaled, y_test, verbose=2)\n",
    "\n",
    "# Display evaluation results\n",
    "print(f\"Loss: {model_loss}, Accuracy: {model_accuracy}\")"
   ]
  },
  {
   "cell_type": "markdown",
   "metadata": {},
   "source": [
    "### Step 4: Save and export your model to an HDF5 file, and name the file `AlphabetSoup.h5`. \n"
   ]
  },
  {
   "cell_type": "code",
   "execution_count": 77,
   "metadata": {},
   "outputs": [],
   "source": [
    "# Set the model's file path\n",
    "file_path = \"AlphabetSoup.h5\"\n",
    "\n",
    "# Export your model to a HDF5 file\n",
    "nn.save(file_path)"
   ]
  },
  {
   "cell_type": "markdown",
   "metadata": {},
   "source": [
    "---\n",
    "\n",
    "## Optimize the neural network model\n"
   ]
  },
  {
   "cell_type": "markdown",
   "metadata": {},
   "source": [
    "### Step 1: Define at least three new deep neural network models (resulting in the original plus 3 optimization attempts). With each, try to improve on your first model’s predictive accuracy.\n",
    "\n",
    "> **Rewind** Recall that perfect accuracy has a value of 1, so accuracy improves as its value moves closer to 1. To optimize your model for a predictive accuracy as close to 1 as possible, you can use any or all of the following techniques:\n",
    ">\n",
    "> * Adjust the input data by dropping different features columns to ensure that no variables or outliers confuse the model.\n",
    ">\n",
    "> * Add more neurons (nodes) to a hidden layer.\n",
    ">\n",
    "> * Add more hidden layers.\n",
    ">\n",
    "> * Use different activation functions for the hidden layers.\n",
    ">\n",
    "> * Add to or reduce the number of epochs in the training regimen.\n"
   ]
  },
  {
   "cell_type": "markdown",
   "metadata": {},
   "source": [
    "### Alternative Model 1"
   ]
  },
  {
   "cell_type": "code",
   "execution_count": 79,
   "metadata": {},
   "outputs": [
    {
     "data": {
      "text/plain": [
       "114"
      ]
     },
     "execution_count": 79,
     "metadata": {},
     "output_type": "execute_result"
    }
   ],
   "source": [
    "# Define the the number of inputs (features) to the model\n",
    "number_input_features = len(X_train.iloc[0])\n",
    "\n",
    "# Review the number of features\n",
    "number_input_features"
   ]
  },
  {
   "cell_type": "code",
   "execution_count": 80,
   "metadata": {},
   "outputs": [],
   "source": [
    "# Define the number of neurons in the output layer\n",
    "number_output_neurons_A1 = 2"
   ]
  },
  {
   "cell_type": "code",
   "execution_count": 81,
   "metadata": {},
   "outputs": [
    {
     "data": {
      "text/plain": [
       "30"
      ]
     },
     "execution_count": 81,
     "metadata": {},
     "output_type": "execute_result"
    }
   ],
   "source": [
    "# Define the number of hidden nodes for the first hidden layer\n",
    "hidden_nodes_layer1_A1 = 30\n",
    "\n",
    "# Review the number of hidden nodes in the first layer\n",
    "hidden_nodes_layer1_A1"
   ]
  },
  {
   "cell_type": "code",
   "execution_count": 83,
   "metadata": {},
   "outputs": [],
   "source": [
    "# Create the Sequential model instance\n",
    "nn_A1 = Sequential()"
   ]
  },
  {
   "cell_type": "code",
   "execution_count": 91,
   "metadata": {},
   "outputs": [],
   "source": [
    "# First hidden layer\n",
    "# YOUR CODE HERE\n",
    "# Add the first hidden layer\n",
    "nn_A1.add(Dense(units=hidden_nodes_layer1, input_dim=number_input_features, activation=\"relu\"))\n",
    "\n",
    "# Output layer\n",
    "# YOUR CODE HERE\n",
    "# Add the second hidden layer\n",
    "nn_A1.add(Dense(units=hidden_nodes_layer2, activation=\"relu\"))\n",
    "\n",
    "# Check the structure of the model\n",
    "# YOUR CODE HERE\n",
    "# Add the output layer to the model specifying the number of output neurons and activation function\n",
    "nn_A1.add(Dense(units=number_output_neurons, activation=\"linear\"))"
   ]
  },
  {
   "cell_type": "code",
   "execution_count": 92,
   "metadata": {},
   "outputs": [],
   "source": [
    "# Compile the Sequential model\n",
    "nn_A1.compile(loss=\"binary_crossentropy\", optimizer=\"adam\", metrics=[\"mse\"])\n"
   ]
  },
  {
   "cell_type": "code",
   "execution_count": 93,
   "metadata": {},
   "outputs": [
    {
     "name": "stdout",
     "output_type": "stream",
     "text": [
      "Epoch 1/50\n",
      "804/804 [==============================] - 1s 1ms/step - loss: 1.5282 - mse: 0.8395\n",
      "Epoch 2/50\n",
      "804/804 [==============================] - 1s 858us/step - loss: 0.9886 - mse: 0.7841\n",
      "Epoch 3/50\n",
      "804/804 [==============================] - 1s 926us/step - loss: 0.9597 - mse: 0.7574\n",
      "Epoch 4/50\n",
      "804/804 [==============================] - 1s 912us/step - loss: 0.9452 - mse: 0.7503\n",
      "Epoch 5/50\n",
      "804/804 [==============================] - 1s 986us/step - loss: 0.9010 - mse: 0.7496\n",
      "Epoch 6/50\n",
      "804/804 [==============================] - 1s 973us/step - loss: 0.8446 - mse: 0.8303\n",
      "Epoch 7/50\n",
      "804/804 [==============================] - 1s 875us/step - loss: 0.7953 - mse: 0.8512\n",
      "Epoch 8/50\n",
      "804/804 [==============================] - 1s 921us/step - loss: 0.7936 - mse: 0.8307\n",
      "Epoch 9/50\n",
      "804/804 [==============================] - 1s 894us/step - loss: 0.7759 - mse: 0.7622\n",
      "Epoch 10/50\n",
      "804/804 [==============================] - 1s 1ms/step - loss: 0.7782 - mse: 0.7437\n",
      "Epoch 11/50\n",
      "804/804 [==============================] - 1s 965us/step - loss: 0.7606 - mse: 0.6808\n",
      "Epoch 12/50\n",
      "804/804 [==============================] - 1s 989us/step - loss: 0.7604 - mse: 0.6430\n",
      "Epoch 13/50\n",
      "804/804 [==============================] - 1s 1ms/step - loss: 0.7530 - mse: 0.6046\n",
      "Epoch 14/50\n",
      "804/804 [==============================] - 1s 942us/step - loss: 0.7268 - mse: 0.5428\n",
      "Epoch 15/50\n",
      "804/804 [==============================] - 1s 998us/step - loss: 0.7235 - mse: 0.5399\n",
      "Epoch 16/50\n",
      "804/804 [==============================] - 1s 926us/step - loss: 0.7218 - mse: 0.5538\n",
      "Epoch 17/50\n",
      "804/804 [==============================] - 1s 956us/step - loss: 0.7200 - mse: 0.5951\n",
      "Epoch 18/50\n",
      "804/804 [==============================] - 1s 898us/step - loss: 0.7082 - mse: 0.5767\n",
      "Epoch 19/50\n",
      "804/804 [==============================] - 1s 1ms/step - loss: 0.7152 - mse: 0.5894\n",
      "Epoch 20/50\n",
      "804/804 [==============================] - 1s 1ms/step - loss: 0.7099 - mse: 0.5401\n",
      "Epoch 21/50\n",
      "804/804 [==============================] - 1s 1ms/step - loss: 0.7076 - mse: 0.5069\n",
      "Epoch 22/50\n",
      "804/804 [==============================] - 1s 1ms/step - loss: 0.7186 - mse: 0.4776\n",
      "Epoch 23/50\n",
      "804/804 [==============================] - 1s 975us/step - loss: 0.7091 - mse: 0.4468\n",
      "Epoch 24/50\n",
      "804/804 [==============================] - 1s 885us/step - loss: 0.7099 - mse: 0.4266\n",
      "Epoch 25/50\n",
      "804/804 [==============================] - 1s 876us/step - loss: 0.7074 - mse: 0.4174\n",
      "Epoch 26/50\n",
      "804/804 [==============================] - 1s 924us/step - loss: 0.7116 - mse: 0.4145\n",
      "Epoch 27/50\n",
      "804/804 [==============================] - 1s 868us/step - loss: 0.7040 - mse: 0.4142\n",
      "Epoch 28/50\n",
      "804/804 [==============================] - 1s 848us/step - loss: 0.7027 - mse: 0.4283\n",
      "Epoch 29/50\n",
      "804/804 [==============================] - 1s 885us/step - loss: 0.7073 - mse: 0.4269\n",
      "Epoch 30/50\n",
      "804/804 [==============================] - 1s 899us/step - loss: 0.7028 - mse: 0.4033\n",
      "Epoch 31/50\n",
      "804/804 [==============================] - 1s 893us/step - loss: 0.6999 - mse: 0.3766\n",
      "Epoch 32/50\n",
      "804/804 [==============================] - 1s 928us/step - loss: 0.6982 - mse: 0.3635\n",
      "Epoch 33/50\n",
      "804/804 [==============================] - 1s 885us/step - loss: 0.6935 - mse: 0.3599\n",
      "Epoch 34/50\n",
      "804/804 [==============================] - 1s 898us/step - loss: 0.7057 - mse: 0.3662\n",
      "Epoch 35/50\n",
      "804/804 [==============================] - 1s 908us/step - loss: 0.7078 - mse: 0.3658\n",
      "Epoch 36/50\n",
      "804/804 [==============================] - 1s 900us/step - loss: 0.6966 - mse: 0.3504\n",
      "Epoch 37/50\n",
      "804/804 [==============================] - 1s 914us/step - loss: 0.6905 - mse: 0.3447\n",
      "Epoch 38/50\n",
      "804/804 [==============================] - 1s 922us/step - loss: 0.6899 - mse: 0.3487\n",
      "Epoch 39/50\n",
      "804/804 [==============================] - 1s 906us/step - loss: 0.6884 - mse: 0.3412\n",
      "Epoch 40/50\n",
      "804/804 [==============================] - 1s 915us/step - loss: 0.6884 - mse: 0.3481\n",
      "Epoch 41/50\n",
      "804/804 [==============================] - 1s 984us/step - loss: 0.6960 - mse: 0.3424\n",
      "Epoch 42/50\n",
      "804/804 [==============================] - 1s 929us/step - loss: 0.6885 - mse: 0.3480\n",
      "Epoch 43/50\n",
      "804/804 [==============================] - 1s 933us/step - loss: 0.7009 - mse: 0.3411\n",
      "Epoch 44/50\n",
      "804/804 [==============================] - 1s 929us/step - loss: 0.6907 - mse: 0.2933\n",
      "Epoch 45/50\n",
      "804/804 [==============================] - 1s 935us/step - loss: 0.6934 - mse: 0.3030\n",
      "Epoch 46/50\n",
      "804/804 [==============================] - 1s 961us/step - loss: 0.6920 - mse: 0.3011\n",
      "Epoch 47/50\n",
      "804/804 [==============================] - 1s 933us/step - loss: 0.6893 - mse: 0.3089\n",
      "Epoch 48/50\n",
      "804/804 [==============================] - 1s 927us/step - loss: 0.6896 - mse: 0.3105\n",
      "Epoch 49/50\n",
      "804/804 [==============================] - 1s 940us/step - loss: 0.6911 - mse: 0.3236\n",
      "Epoch 50/50\n",
      "804/804 [==============================] - 1s 937us/step - loss: 0.6893 - mse: 0.3322\n"
     ]
    }
   ],
   "source": [
    "# Fit the model using 50 epochs and the training data\n",
    "fit_model_A1 =  nn_A1.fit(X_train_scaled, y_train, epochs=50)\n"
   ]
  },
  {
   "cell_type": "markdown",
   "metadata": {},
   "source": [
    "#### Alternative Model 2"
   ]
  },
  {
   "cell_type": "code",
   "execution_count": 95,
   "metadata": {},
   "outputs": [
    {
     "data": {
      "text/plain": [
       "114"
      ]
     },
     "execution_count": 95,
     "metadata": {},
     "output_type": "execute_result"
    }
   ],
   "source": [
    "# Define the the number of inputs (features) to the model\n",
    "number_input_features = len(X_train.iloc[0])\n",
    "\n",
    "# Review the number of features\n",
    "number_input_features"
   ]
  },
  {
   "cell_type": "code",
   "execution_count": 96,
   "metadata": {},
   "outputs": [],
   "source": [
    "# Define the number of neurons in the output layer\n",
    "number_output_neurons_A2 = 4"
   ]
  },
  {
   "cell_type": "code",
   "execution_count": 97,
   "metadata": {},
   "outputs": [
    {
     "data": {
      "text/plain": [
       "12"
      ]
     },
     "execution_count": 97,
     "metadata": {},
     "output_type": "execute_result"
    }
   ],
   "source": [
    "# Define the number of hidden nodes for the first hidden layer\n",
    "hidden_nodes_layer1_A2 = 12\n",
    "\n",
    "# Review the number of hidden nodes in the first layer\n",
    "hidden_nodes_layer1_A2"
   ]
  },
  {
   "cell_type": "code",
   "execution_count": 98,
   "metadata": {},
   "outputs": [],
   "source": [
    "# Create the Sequential model instance\n",
    "nn_A2 = Sequential()"
   ]
  },
  {
   "cell_type": "code",
   "execution_count": 99,
   "metadata": {},
   "outputs": [],
   "source": [
    "# First hidden layer\n",
    "# YOUR CODE HERE\n",
    "# Add the first hidden layer\n",
    "nn_A2.add(Dense(units=hidden_nodes_layer1, input_dim=number_input_features, activation=\"relu\"))\n",
    "\n",
    "# Output layer\n",
    "# YOUR CODE HERE\n",
    "# Add the second hidden layer\n",
    "nn_A2.add(Dense(units=hidden_nodes_layer2, activation=\"relu\"))\n",
    "\n",
    "# Check the structure of the model\n",
    "# YOUR CODE HERE\n",
    "# Add the output layer to the model specifying the number of output neurons and activation function\n",
    "nn_A2.add(Dense(units=number_output_neurons, activation=\"linear\"))"
   ]
  },
  {
   "cell_type": "code",
   "execution_count": 100,
   "metadata": {},
   "outputs": [],
   "source": [
    "# Compile the Sequential model\n",
    "nn_A2.compile(loss=\"binary_crossentropy\", optimizer=\"adam\", metrics=[\"mse\"])\n",
    "\n"
   ]
  },
  {
   "cell_type": "code",
   "execution_count": 101,
   "metadata": {},
   "outputs": [
    {
     "name": "stdout",
     "output_type": "stream",
     "text": [
      "Epoch 1/50\n",
      "804/804 [==============================] - 1s 1ms/step - loss: 0.7259 - mse: 0.2694\n",
      "Epoch 2/50\n",
      "804/804 [==============================] - 1s 976us/step - loss: 0.6145 - mse: 0.2247\n",
      "Epoch 3/50\n",
      "804/804 [==============================] - 1s 887us/step - loss: 0.5981 - mse: 0.2204\n",
      "Epoch 4/50\n",
      "804/804 [==============================] - 1s 866us/step - loss: 0.5941 - mse: 0.2112\n",
      "Epoch 5/50\n",
      "804/804 [==============================] - 1s 864us/step - loss: 0.5937 - mse: 0.2115\n",
      "Epoch 6/50\n",
      "804/804 [==============================] - 1s 870us/step - loss: 0.5905 - mse: 0.2127\n",
      "Epoch 7/50\n",
      "804/804 [==============================] - 1s 857us/step - loss: 0.5862 - mse: 0.2119\n",
      "Epoch 8/50\n",
      "804/804 [==============================] - 1s 881us/step - loss: 0.5845 - mse: 0.2113\n",
      "Epoch 9/50\n",
      "804/804 [==============================] - 1s 875us/step - loss: 0.5819 - mse: 0.2076\n",
      "Epoch 10/50\n",
      "804/804 [==============================] - 1s 878us/step - loss: 0.5824 - mse: 0.2093\n",
      "Epoch 11/50\n",
      "804/804 [==============================] - 1s 865us/step - loss: 0.5851 - mse: 0.2111\n",
      "Epoch 12/50\n",
      "804/804 [==============================] - 1s 892us/step - loss: 0.5853 - mse: 0.2127\n",
      "Epoch 13/50\n",
      "804/804 [==============================] - 1s 883us/step - loss: 0.5908 - mse: 0.2138\n",
      "Epoch 14/50\n",
      "804/804 [==============================] - 1s 884us/step - loss: 0.5810 - mse: 0.2120\n",
      "Epoch 15/50\n",
      "804/804 [==============================] - 1s 896us/step - loss: 0.5828 - mse: 0.2165\n",
      "Epoch 16/50\n",
      "804/804 [==============================] - 1s 891us/step - loss: 0.5812 - mse: 0.2154\n",
      "Epoch 17/50\n",
      "804/804 [==============================] - 1s 919us/step - loss: 0.5811 - mse: 0.2122\n",
      "Epoch 18/50\n",
      "804/804 [==============================] - 1s 892us/step - loss: 0.5772 - mse: 0.2172\n",
      "Epoch 19/50\n",
      "804/804 [==============================] - 1s 905us/step - loss: 0.5763 - mse: 0.2161\n",
      "Epoch 20/50\n",
      "804/804 [==============================] - 1s 906us/step - loss: 0.5765 - mse: 0.2117\n",
      "Epoch 21/50\n",
      "804/804 [==============================] - 1s 1ms/step - loss: 0.5708 - mse: 0.2054\n",
      "Epoch 22/50\n",
      "804/804 [==============================] - 1s 1ms/step - loss: 0.5693 - mse: 0.2062\n",
      "Epoch 23/50\n",
      "804/804 [==============================] - 1s 904us/step - loss: 0.5682 - mse: 0.2068\n",
      "Epoch 24/50\n",
      "804/804 [==============================] - 1s 947us/step - loss: 0.5688 - mse: 0.2079\n",
      "Epoch 25/50\n",
      "804/804 [==============================] - 1s 904us/step - loss: 0.5726 - mse: 0.2072\n",
      "Epoch 26/50\n",
      "804/804 [==============================] - 1s 939us/step - loss: 0.5613 - mse: 0.2037\n",
      "Epoch 27/50\n",
      "804/804 [==============================] - 1s 900us/step - loss: 0.5610 - mse: 0.2031\n",
      "Epoch 28/50\n",
      "804/804 [==============================] - 1s 956us/step - loss: 0.5642 - mse: 0.2043\n",
      "Epoch 29/50\n",
      "804/804 [==============================] - 1s 916us/step - loss: 0.5765 - mse: 0.1989\n",
      "Epoch 30/50\n",
      "804/804 [==============================] - 1s 1ms/step - loss: 0.5749 - mse: 0.2005\n",
      "Epoch 31/50\n",
      "804/804 [==============================] - 1s 949us/step - loss: 0.5775 - mse: 0.2016\n",
      "Epoch 32/50\n",
      "804/804 [==============================] - 1s 1ms/step - loss: 0.5720 - mse: 0.1965\n",
      "Epoch 33/50\n",
      "804/804 [==============================] - 1s 987us/step - loss: 0.5636 - mse: 0.1969\n",
      "Epoch 34/50\n",
      "804/804 [==============================] - 1s 915us/step - loss: 0.5643 - mse: 0.2002\n",
      "Epoch 35/50\n",
      "804/804 [==============================] - 1s 930us/step - loss: 0.5690 - mse: 0.2009\n",
      "Epoch 36/50\n",
      "804/804 [==============================] - 1s 914us/step - loss: 0.5665 - mse: 0.2006\n",
      "Epoch 37/50\n",
      "804/804 [==============================] - 1s 934us/step - loss: 0.5744 - mse: 0.2023\n",
      "Epoch 38/50\n",
      "804/804 [==============================] - 1s 922us/step - loss: 0.5774 - mse: 0.2034\n",
      "Epoch 39/50\n",
      "804/804 [==============================] - 1s 917us/step - loss: 0.5943 - mse: 0.2365\n",
      "Epoch 40/50\n",
      "804/804 [==============================] - 1s 926us/step - loss: 0.5750 - mse: 0.2292\n",
      "Epoch 41/50\n",
      "804/804 [==============================] - 1s 947us/step - loss: 0.5661 - mse: 0.2410\n",
      "Epoch 42/50\n",
      "804/804 [==============================] - 1s 931us/step - loss: 0.5645 - mse: 0.2497\n",
      "Epoch 43/50\n",
      "804/804 [==============================] - 1s 930us/step - loss: 0.5648 - mse: 0.2453\n",
      "Epoch 44/50\n",
      "804/804 [==============================] - 1s 979us/step - loss: 0.5659 - mse: 0.2435\n",
      "Epoch 45/50\n",
      "804/804 [==============================] - 1s 959us/step - loss: 0.5715 - mse: 0.2372\n",
      "Epoch 46/50\n",
      "804/804 [==============================] - 1s 955us/step - loss: 0.5839 - mse: 0.2312\n",
      "Epoch 47/50\n",
      "804/804 [==============================] - 1s 946us/step - loss: 0.5654 - mse: 0.2355\n",
      "Epoch 48/50\n",
      "804/804 [==============================] - 1s 1ms/step - loss: 0.5638 - mse: 0.2360\n",
      "Epoch 49/50\n",
      "804/804 [==============================] - 1s 1ms/step - loss: 0.5629 - mse: 0.2350\n",
      "Epoch 50/50\n",
      "804/804 [==============================] - 1s 1ms/step - loss: 0.5786 - mse: 0.2392\n"
     ]
    }
   ],
   "source": [
    "# Fit the model\n",
    "# Fit the model using 50 epochs and the training data\n",
    "fit_model_A2 =  nn_A2.fit(X_train_scaled, y_train, epochs=50)\n"
   ]
  },
  {
   "cell_type": "markdown",
   "metadata": {},
   "source": [
    "### Step 2: After finishing your models, display the accuracy scores achieved by each model, and compare the results."
   ]
  },
  {
   "cell_type": "code",
   "execution_count": 102,
   "metadata": {},
   "outputs": [
    {
     "name": "stdout",
     "output_type": "stream",
     "text": [
      "Original Model Results\n",
      "268/268 - 0s - loss: 0.6777 - mse: 0.3063 - 178ms/epoch - 665us/step\n",
      "Loss: 0.6776999235153198, Accuracy: 0.3062882423400879\n"
     ]
    }
   ],
   "source": [
    "print(\"Original Model Results\")\n",
    "\n",
    "# Evaluate the model loss and accuracy metrics using the evaluate method and the test data\n",
    "model_loss, model_accuracy = nn.evaluate(X_test_scaled, y_test, verbose=2)\n",
    "\n",
    "# Display the model loss and accuracy results\n",
    "print(f\"Loss: {model_loss}, Accuracy: {model_accuracy}\")"
   ]
  },
  {
   "cell_type": "code",
   "execution_count": 103,
   "metadata": {},
   "outputs": [
    {
     "name": "stdout",
     "output_type": "stream",
     "text": [
      "Alternative Model 1 Results\n",
      "268/268 - 0s - loss: 0.7193 - mse: 0.3166 - 252ms/epoch - 940us/step\n",
      "Loss: 0.7192848324775696, Accuracy: 0.3165658712387085\n"
     ]
    }
   ],
   "source": [
    "print(\"Alternative Model 1 Results\")\n",
    "\n",
    "# Evaluate the model loss and accuracy metrics using the evaluate method and the test data\n",
    "model_loss, model_accuracy =nn_A1.evaluate(X_test_scaled, y_test, verbose=2)\n",
    "\n",
    "# Display the model loss and accuracy results\n",
    "print(f\"Loss: {model_loss}, Accuracy: {model_accuracy}\")"
   ]
  },
  {
   "cell_type": "code",
   "execution_count": 104,
   "metadata": {},
   "outputs": [
    {
     "name": "stdout",
     "output_type": "stream",
     "text": [
      "Alternative Model 2 Results\n",
      "268/268 - 0s - loss: 0.5899 - mse: 0.2288 - 357ms/epoch - 1ms/step\n",
      "Loss: 0.5899114012718201, Accuracy: 0.228759303689003\n"
     ]
    }
   ],
   "source": [
    "print(\"Alternative Model 2 Results\")\n",
    "\n",
    "# Evaluate the model loss and accuracy metrics using the evaluate method and the test data\n",
    "model_loss, model_accuracy = nn_A2.evaluate(X_test_scaled, y_test, verbose=2)\n",
    "\n",
    "# Display the model loss and accuracy results\n",
    "print(f\"Loss: {model_loss}, Accuracy: {model_accuracy}\")"
   ]
  },
  {
   "cell_type": "markdown",
   "metadata": {},
   "source": [
    "### Step 3: Save each of your alternative models as an HDF5 file.\n"
   ]
  },
  {
   "cell_type": "code",
   "execution_count": 105,
   "metadata": {},
   "outputs": [],
   "source": [
    "# Set the file path for the first alternative model\n",
    "# Set the model's file path\n",
    "file_path = \"AlphabetSoup_A1.h5\"\n",
    "\n",
    "# Export your model to a HDF5 file\n",
    "nn_A1.save(file_path)"
   ]
  },
  {
   "cell_type": "code",
   "execution_count": 106,
   "metadata": {},
   "outputs": [],
   "source": [
    "# Set the file path for the first alternative model\n",
    "# Set the model's file path\n",
    "file_path = \"AlphabetSoup_A2.h5\"\n",
    "\n",
    "# Export your model to a HDF5 file\n",
    "nn_A2.save(file_path)"
   ]
  },
  {
   "cell_type": "code",
   "execution_count": null,
   "metadata": {},
   "outputs": [],
   "source": []
  }
 ],
 "metadata": {
  "kernelspec": {
   "display_name": "dev",
   "language": "python",
   "name": "dev"
  },
  "language_info": {
   "codemirror_mode": {
    "name": "ipython",
    "version": 3
   },
   "file_extension": ".py",
   "mimetype": "text/x-python",
   "name": "python",
   "nbconvert_exporter": "python",
   "pygments_lexer": "ipython3",
   "version": "3.7.11"
  }
 },
 "nbformat": 4,
 "nbformat_minor": 4
}
